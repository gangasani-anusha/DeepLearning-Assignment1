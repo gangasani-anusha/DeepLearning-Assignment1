{
  "nbformat": 4,
  "nbformat_minor": 0,
  "metadata": {
    "colab": {
      "name": "Part3-Gradient Descent.ipynb",
      "provenance": [],
      "authorship_tag": "ABX9TyPN50vVYNSu/PIFBlmrOT9u",
      "include_colab_link": true
    },
    "kernelspec": {
      "name": "python3",
      "display_name": "Python 3"
    },
    "language_info": {
      "name": "python"
    },
    "accelerator": "GPU"
  },
  "cells": [
    {
      "cell_type": "markdown",
      "metadata": {
        "id": "view-in-github",
        "colab_type": "text"
      },
      "source": [
        "<a href=\"https://colab.research.google.com/github/gangasani-anusha/DeepLearning-Assignment1/blob/main/Part3_Gradient_Descent.ipynb\" target=\"_parent\"><img src=\"https://colab.research.google.com/assets/colab-badge.svg\" alt=\"Open In Colab\"/></a>"
      ]
    },
    {
      "cell_type": "markdown",
      "source": [
        "## Gradient Descent"
      ],
      "metadata": {
        "id": "FYGkAL-kJO_8"
      }
    },
    {
      "cell_type": "code",
      "execution_count": 14,
      "metadata": {
        "id": "BtCE8UcU4WJr"
      },
      "outputs": [],
      "source": [
        "from sklearn.datasets import make_regression\n",
        "import numpy as np\n",
        "import matplotlib.pyplot as plt\n",
        "from sklearn.linear_model import LinearRegression"
      ]
    },
    {
      "cell_type": "code",
      "source": [
        "X_value,Y_value = make_regression(n_samples=20, n_features=1, n_informative=1, n_targets=1, noise=80, random_state=13)\n",
        "plt.scatter(X_value,Y_value)"
      ],
      "metadata": {
        "colab": {
          "base_uri": "https://localhost:8080/",
          "height": 282
        },
        "id": "qGnKoLt2G3oc",
        "outputId": "faf4a0f5-c5dc-4e90-fa19-3ef95aac959a"
      },
      "execution_count": 21,
      "outputs": [
        {
          "output_type": "execute_result",
          "data": {
            "text/plain": [
              "<matplotlib.collections.PathCollection at 0x7fd92f341110>"
            ]
          },
          "metadata": {},
          "execution_count": 21
        },
        {
          "output_type": "display_data",
          "data": {
            "image/png": "[encoded data removed]",
            "text/plain": [
              "<Figure size 432x288 with 1 Axes>"
            ]
          },
          "metadata": {
            "needs_background": "light"
          }
        }
      ]
    },
    {
      "cell_type": "code",
      "source": [
        "linear_reg = LinearRegression()\n",
        "linear_reg.fit(X_value,Y_value)\n",
        "print(linear_reg.coef_)\n",
        "print(linear_reg.intercept_)"
      ],
      "metadata": {
        "id": "rAtTQLIa4x8z",
        "colab": {
          "base_uri": "https://localhost:8080/"
        },
        "outputId": "a6fe500c-f643-4001-c8e1-d36485efacaa"
      },
      "execution_count": 23,
      "outputs": [
        {
          "output_type": "stream",
          "name": "stdout",
          "text": [
            "[-21.77659043]\n",
            "-15.032941160581775\n"
          ]
        }
      ]
    },
    {
      "cell_type": "code",
      "source": [
        "plt.scatter(X_value,Y_value)\n",
        "plt.plot(X_value,linear_reg.predict(X_value),color='orange')"
      ],
      "metadata": {
        "colab": {
          "base_uri": "https://localhost:8080/",
          "height": 282
        },
        "id": "IU0IAVs64y95",
        "outputId": "533dc158-1307-4e40-ae4d-0dcb9a8454b2"
      },
      "execution_count": 25,
      "outputs": [
        {
          "output_type": "execute_result",
          "data": {
            "text/plain": [
              "[<matplotlib.lines.Line2D at 0x7fd92f231590>]"
            ]
          },
          "metadata": {},
          "execution_count": 25
        },
        {
          "output_type": "display_data",
          "data": {
            "image/png": "[encoded data removed]",
            "text/plain": [
              "<Figure size 432x288 with 1 Axes>"
            ]
          },
          "metadata": {
            "needs_background": "light"
          }
        }
      ]
    },
    {
      "cell_type": "code",
      "source": [
        "y_pred = ((78.35 * X_value) + 0).reshape(20)\n",
        "plt.scatter(X_value,Y_value)\n",
        "plt.plot(X_value,linear_reg.predict(X_value),color='pink',label='OLS')\n",
        "plt.plot(X_value,y_pred,color='#00a65a',label='b = 0')\n",
        "plt.legend()\n",
        "plt.show()"
      ],
      "metadata": {
        "colab": {
          "base_uri": "https://localhost:8080/",
          "height": 265
        },
        "id": "M7QB_Lfp78g9",
        "outputId": "ec34208a-4657-43f8-e0ed-b3fd5d1bebcf"
      },
      "execution_count": 29,
      "outputs": [
        {
          "output_type": "display_data",
          "data": {
            "image/png": "[encoded data removed]",
            "text/plain": [
              "<Figure size 432x288 with 1 Axes>"
            ]
          },
          "metadata": {
            "needs_background": "light"
          }
        }
      ]
    },
    {
      "cell_type": "code",
      "source": [
        "m = 78.35\n",
        "b = 0\n",
        "loss_slope = -2 * np.sum(Y_value - m*X_value.ravel() - b) \n",
        "# Lets take learning rate = 0.5\n",
        "lr = 0.5\n",
        "step_size = loss_slope*lr\n",
        "print(step_size)\n",
        "# Calculating the new intercept\n",
        "b = b - step_size\n",
        "print(b)"
      ],
      "metadata": {
        "id": "a3CJxgQn-KTc",
        "colab": {
          "base_uri": "https://localhost:8080/"
        },
        "outputId": "4ed4cc57-326d-44d2-ce66-6753fb2a7e98"
      },
      "execution_count": 34,
      "outputs": [
        {
          "output_type": "stream",
          "name": "stdout",
          "text": [
            "1034.391774560895\n",
            "-1034.391774560895\n"
          ]
        }
      ]
    },
    {
      "cell_type": "code",
      "source": [
        "loss_slope = -2 * np.sum(Y_value - m*X_value.ravel() - b)\n",
        "step_size = loss_slope*lr\n",
        "b = b - step_size\n",
        "print(b)"
      ],
      "metadata": {
        "id": "k8Q5BCFD-iNc",
        "colab": {
          "base_uri": "https://localhost:8080/"
        },
        "outputId": "2af18163-2ee8-41ab-8a6a-bf4cee2bf31e"
      },
      "execution_count": 35,
      "outputs": [
        {
          "output_type": "stream",
          "name": "stdout",
          "text": [
            "18619.05194209611\n"
          ]
        }
      ]
    },
    {
      "cell_type": "code",
      "source": [
        "X_value, Y_value = make_regression(n_samples=100, n_features=1, n_informative=1, n_targets=1, noise=20, random_state=13)\n",
        "plt.scatter(X_value,Y_value)"
      ],
      "metadata": {
        "id": "t7bTD_MUACpD",
        "outputId": "80427488-2551-4051-b237-1d169513c140",
        "colab": {
          "base_uri": "https://localhost:8080/",
          "height": 282
        }
      },
      "execution_count": 37,
      "outputs": [
        {
          "output_type": "execute_result",
          "data": {
            "text/plain": [
              "<matplotlib.collections.PathCollection at 0x7fd92f3826d0>"
            ]
          },
          "metadata": {},
          "execution_count": 37
        },
        {
          "output_type": "display_data",
          "data": {
            "image/png": "[encoded data removed]",
            "text/plain": [
              "<Figure size 432x288 with 1 Axes>"
            ]
          },
          "metadata": {
            "needs_background": "light"
          }
        }
      ]
    },
    {
      "cell_type": "code",
      "source": [
        "class GradientDescent:\n",
        "  def __init__(self, learning_rate, epochs):\n",
        "    self.m = 100\n",
        "    self.b = -120\n",
        "    self.lr = learning_rate\n",
        "    self.epochs = epochs\n",
        "  def fit(self, X, y):\n",
        "    #calculate b and m using GD\n",
        "    for i in range(self.epochs):\n",
        "      loss_slope_b = -2 * np.sum(y - self.m * X.ravel() - self.b)\n",
        "      loss_slope_m = -2 * np.sum((y - self.m * X.ravel() - self.b)*X.ravel())\n",
        "      self.b = self.b - (self.lr * loss_slope_b)\n",
        "      self.m = self.m - (self.lr * loss_slope_m)\n",
        "    print(self.m, self.b)\n",
        "  def predict(self, X):\n",
        "    return self.m * X + self.b"
      ],
      "metadata": {
        "id": "3rFyMOuxBEGz"
      },
      "execution_count": 39,
      "outputs": []
    },
    {
      "cell_type": "code",
      "source": [
        "#create object and check algorithm\n",
        "gd_value = GradientDescent(0.001, 50)\n",
        "gd_value.fit(X_value, Y_value)"
      ],
      "metadata": {
        "colab": {
          "base_uri": "https://localhost:8080/"
        },
        "id": "G0jQIyrgJJnh",
        "outputId": "792609a6-97e8-4250-bae7-c1c896a617ee"
      },
      "execution_count": 41,
      "outputs": [
        {
          "output_type": "stream",
          "name": "stdout",
          "text": [
            "27.837060471820052 -2.2991839308293196\n"
          ]
        }
      ]
    }
  ]
}